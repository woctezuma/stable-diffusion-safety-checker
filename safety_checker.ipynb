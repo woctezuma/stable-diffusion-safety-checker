{
 "cells": [
  {
   "cell_type": "markdown",
   "metadata": {
    "id": "QAF5wev8M7fk"
   },
   "source": [
    "# Stable Diffusion Safety Checker\n",
    "\n",
    "- https://github.com/woctezuma/stable-diffusion-safety-checker"
   ]
  },
  {
   "cell_type": "markdown",
   "metadata": {
    "id": "s0vhpLoe_OVp"
   },
   "source": [
    "## Requirements"
   ]
  },
  {
   "cell_type": "code",
   "execution_count": null,
   "metadata": {
    "id": "0vuMtGa0_J1v"
   },
   "outputs": [],
   "source": [
    "!pip install git+https://github.com/woctezuma/stable-diffusion-safety-checker.git"
   ]
  },
  {
   "cell_type": "markdown",
   "metadata": {
    "id": "b8mUukWgAjvv"
   },
   "source": [
    "## Utils"
   ]
  },
  {
   "cell_type": "code",
   "execution_count": null,
   "metadata": {
    "id": "QYsF-4SDAiMa"
   },
   "outputs": [],
   "source": [
    "import json\n",
    "from pathlib import Path\n",
    "\n",
    "\n",
    "def load_json(fname):\n",
    "    with Path(fname).open(encoding=\"utf8\") as f:\n",
    "        return json.load(f)"
   ]
  },
  {
   "cell_type": "markdown",
   "metadata": {
    "id": "5OxTx5TZ_Rqz"
   },
   "source": [
    "## Example: `balloon` dataset\n",
    "\n",
    "Images come from a small dataset called `balloon`."
   ]
  },
  {
   "cell_type": "code",
   "execution_count": null,
   "metadata": {
    "id": "vAxKNCuA_LQh"
   },
   "outputs": [],
   "source": [
    "fname = \"balloon_dataset.zip\"\n",
    "!curl -OL https://github.com/matterport/Mask_RCNN/releases/download/v2.1/{fname}\n",
    "!unzip -q {fname}"
   ]
  },
  {
   "cell_type": "code",
   "execution_count": null,
   "metadata": {
    "id": "21PRpys__MSh"
   },
   "outputs": [],
   "source": [
    "!python -m safety_checker.check_safety \\\n",
    " --input balloon \\\n",
    " --batch 8 \\\n",
    " --resize 256 \\\n",
    " --keep-ratio \\\n",
    " --output bad_concepts.json \\\n",
    " --scores bad_concepts_scores.pth \\\n",
    " --list img_list.json \\\n",
    " --verbose"
   ]
  },
  {
   "cell_type": "code",
   "execution_count": null,
   "metadata": {
    "id": "4UbsyiyJ_Nax"
   },
   "outputs": [],
   "source": [
    "import torch\n",
    "\n",
    "paths = load_json(\"img_list.json\")\n",
    "results = load_json(\"bad_concepts.json\")\n",
    "scores = torch.load(\"bad_concepts_scores.pth\")"
   ]
  },
  {
   "cell_type": "markdown",
   "metadata": {
    "id": "oxURZYQB_WeW"
   },
   "source": [
    "## Example: Discord dataset\n",
    "\n",
    "Images consist of profiles pictures scraped from a specific Discord guild's members."
   ]
  },
  {
   "cell_type": "code",
   "execution_count": null,
   "metadata": {
    "id": "n30-KBOvAO3V"
   },
   "outputs": [],
   "source": [
    "for i in range(1, 3):\n",
    "    fname = f\"img_{i}.zip\"\n",
    "    !curl -OL https://github.com/woctezuma/discord-members-metadata/releases/download/img/{fname}\n",
    "    !unzip -q {fname}"
   ]
  },
  {
   "cell_type": "code",
   "execution_count": null,
   "metadata": {
    "id": "mQnMCofHAU76"
   },
   "outputs": [],
   "source": [
    "!python -m safety_checker.check_safety"
   ]
  },
  {
   "cell_type": "code",
   "execution_count": null,
   "metadata": {
    "id": "2wsqT9ZEAuhg"
   },
   "outputs": [],
   "source": [
    "import torch\n",
    "\n",
    "paths = load_json(\"img_list.json\")\n",
    "results = load_json(\"bad_concepts.json\")\n",
    "scores = torch.load(\"bad_concepts_scores.pth\")"
   ]
  }
 ],
 "metadata": {
  "accelerator": "GPU",
  "colab": {
   "gpuType": "T4",
   "private_outputs": true,
   "provenance": []
  },
  "kernelspec": {
   "display_name": "Python 3",
   "name": "python3"
  },
  "language_info": {
   "name": "python"
  }
 },
 "nbformat": 4,
 "nbformat_minor": 0
}