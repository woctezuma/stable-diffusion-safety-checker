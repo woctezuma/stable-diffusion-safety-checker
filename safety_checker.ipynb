{
  "nbformat": 4,
  "nbformat_minor": 0,
  "metadata": {
    "colab": {
      "private_outputs": true,
      "provenance": [],
      "gpuType": "T4"
    },
    "kernelspec": {
      "name": "python3",
      "display_name": "Python 3"
    },
    "language_info": {
      "name": "python"
    },
    "accelerator": "GPU"
  },
  "cells": [
    {
      "cell_type": "markdown",
      "source": [
        "# Stable Diffusion Safety Checker\n",
        "\n",
        "- https://github.com/woctezuma/stable-diffusion-safety-checker"
      ],
      "metadata": {
        "id": "QAF5wev8M7fk"
      }
    },
    {
      "cell_type": "markdown",
      "source": [
        "## Requirements"
      ],
      "metadata": {
        "id": "s0vhpLoe_OVp"
      }
    },
    {
      "cell_type": "code",
      "source": [
        "!pip install git+https://github.com/woctezuma/stable-diffusion-safety-checker.git"
      ],
      "metadata": {
        "id": "0vuMtGa0_J1v"
      },
      "execution_count": null,
      "outputs": []
    },
    {
      "cell_type": "markdown",
      "source": [
        "## Utils"
      ],
      "metadata": {
        "id": "b8mUukWgAjvv"
      }
    },
    {
      "cell_type": "code",
      "source": [
        "import json\n",
        "\n",
        "from pathlib import Path\n",
        "\n",
        "def load_json(fname):\n",
        "  with Path(fname).open(encoding='utf8') as f:\n",
        "    return json.load(f)"
      ],
      "metadata": {
        "id": "QYsF-4SDAiMa"
      },
      "execution_count": null,
      "outputs": []
    },
    {
      "cell_type": "markdown",
      "source": [
        "## Example: `balloon` dataset\n",
        "\n",
        "Images come from a small dataset called `balloon`."
      ],
      "metadata": {
        "id": "5OxTx5TZ_Rqz"
      }
    },
    {
      "cell_type": "code",
      "source": [
        "fname = \"balloon_dataset.zip\"\n",
        "!curl -OL https://github.com/matterport/Mask_RCNN/releases/download/v2.1/{fname}\n",
        "!unzip -q {fname}"
      ],
      "metadata": {
        "id": "vAxKNCuA_LQh"
      },
      "execution_count": null,
      "outputs": []
    },
    {
      "cell_type": "code",
      "source": [
        "!python -m safety_checker.check_safety \\\n",
        " --input balloon \\\n",
        " --batch 8 \\\n",
        " --resize 256 \\\n",
        " --keep-ratio \\\n",
        " --output bad_concepts.json \\\n",
        " --scores bad_concepts_scores.pth \\\n",
        " --list img_list.json \\\n",
        " --verbose"
      ],
      "metadata": {
        "id": "21PRpys__MSh"
      },
      "execution_count": null,
      "outputs": []
    },
    {
      "cell_type": "code",
      "source": [
        "import torch\n",
        "\n",
        "paths = load_json(\"img_list.json\")\n",
        "results = load_json(\"bad_concepts.json\")\n",
        "scores = torch.load(\"bad_concepts_scores.pth\")"
      ],
      "metadata": {
        "id": "4UbsyiyJ_Nax"
      },
      "execution_count": null,
      "outputs": []
    },
    {
      "cell_type": "markdown",
      "source": [
        "## Example: Discord dataset\n",
        "\n",
        "Images consist of profiles pictures scraped from a specific Discord guild's members."
      ],
      "metadata": {
        "id": "oxURZYQB_WeW"
      }
    },
    {
      "cell_type": "code",
      "source": [
        "for i in range(1, 3):\n",
        "  fname = f\"img_{i}.zip\"\n",
        "  !curl -OL https://github.com/woctezuma/discord-members-metadata/releases/download/img/{fname}\n",
        "  !unzip -q {fname}"
      ],
      "metadata": {
        "id": "n30-KBOvAO3V"
      },
      "execution_count": null,
      "outputs": []
    },
    {
      "cell_type": "code",
      "source": [
        "!python -m safety_checker.check_safety"
      ],
      "metadata": {
        "id": "mQnMCofHAU76"
      },
      "execution_count": null,
      "outputs": []
    },
    {
      "cell_type": "code",
      "source": [
        "import torch\n",
        "\n",
        "paths = load_json(\"img_list.json\")\n",
        "results = load_json(\"bad_concepts.json\")\n",
        "scores = torch.load(\"bad_concepts_scores.pth\")"
      ],
      "metadata": {
        "id": "2wsqT9ZEAuhg"
      },
      "execution_count": null,
      "outputs": []
    }
  ]
}